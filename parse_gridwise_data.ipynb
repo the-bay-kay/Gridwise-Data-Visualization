{
 "cells": [
  {
   "cell_type": "markdown",
   "metadata": {},
   "source": [
    "# Processing & Visualizations for Gridwise Data\n",
    "\n",
    "## About this notebook\n",
    "\n",
    "The purpose of this notebook is to parse and visualize the Preliminary data given by Gridwise in 2023. For questions surrounding the design or implementation of this project, please email Katie.Rischpater@nrel.gov ! "
   ]
  },
  {
   "cell_type": "markdown",
   "metadata": {},
   "source": [
    "## File I/O, Dataframe setup"
   ]
  },
  {
   "cell_type": "markdown",
   "metadata": {},
   "source": [
    "### File Imports"
   ]
  },
  {
   "cell_type": "code",
   "execution_count": 3,
   "metadata": {},
   "outputs": [],
   "source": [
    "# Data Processing\n",
    "import pandas as pd\n",
    "import numpy as np\n",
    "# from datetime import datetime, timedelta\n",
    "\n",
    "# Geospacial Data\n",
    "import geopandas as gpd\n",
    "import geoplot\n",
    "import geoplot.crs as gcrs\n",
    "\n",
    "# Visualization\n",
    "import matplotlib.pyplot as plt\n",
    "import osmnx as ox\n",
    "# import networkx as nx"
   ]
  },
  {
   "cell_type": "markdown",
   "metadata": {},
   "source": [
    "### Load & Parse CSV "
   ]
  },
  {
   "cell_type": "markdown",
   "metadata": {},
   "source": [
    "This is currently configured to work with a single CV: syntax may change as more data is provided!\n",
    "\n",
    "Relavant fields in the Gridwise_Data CSV Include:\n",
    "- Timestamps ('start_time', 'end_time')\n",
    "- Trip Category (We're interested in 'Rideshare')\n",
    "- Driver id (driver_id)\n",
    "- Lat / Long data, including:\n",
    "    - start_block_group_internal_point_lat, start_block_group_internal_point_lng\n",
    "    - end_block_group_internal_point_lat, end_block_group_internal_point_lng"
   ]
  },
  {
   "cell_type": "code",
   "execution_count": 5,
   "metadata": {},
   "outputs": [],
   "source": [
    "CSV_PATH = '../Gridwise_Data/Preliminary/gwan-los-angeles-10-30-trips.csv'\n",
    "gridwise_df = pd.read_csv(CSV_PATH)\n",
    "rideshare_df =  gridwise_df[gridwise_df['service_type'] == 'Rideshare']\n",
    "CITY_NAME = 'Los Angeles, California, USA'\n",
    "\n",
    "# Inspect only rideshare trips with nonempty start and end times\n",
    "rideshare_with_data_df =  rideshare_df[((rideshare_df['start_time'].notna()) & (rideshare_df['end_time'].notna()) & (rideshare_df['request_time'].notna()))].reset_index(drop=True)"
   ]
  },
  {
   "cell_type": "markdown",
   "metadata": {},
   "source": [
    "## MatPlotLib Visualizations"
   ]
  },
  {
   "cell_type": "markdown",
   "metadata": {},
   "source": [
    "### Number of Trips / User"
   ]
  },
  {
   "cell_type": "code",
   "execution_count": null,
   "metadata": {},
   "outputs": [],
   "source": [
    "# Finds maximum # of rides driven by a single user\n",
    "driverid_counts = rideshare_df['driver_id'].value_counts() \n",
    "driver_id_counts_df = driverid_counts.reset_index()\n",
    "driver_id_counts_df.columns = ['driver_id', 'count']\n",
    "\n",
    "all_days_grouped_df = driver_id_counts_df.groupby('count')['driver_id'].nunique().reset_index()\n",
    "all_days_grouped_df.columns = ['Number of Trips', 'Number of Users']\n",
    "\n",
    "# Display data as bar graph\n",
    "plt.bar(all_days_grouped_df['Number of Trips'], all_days_grouped_df['Number of Users'] )\n",
    "plt.xlabel('Number of Trips') # Just Oct. 30th\n",
    "plt.ylabel('Number of Drivers')\n",
    "plt.title('Number of Drivers vs Number of Rideshare Trips')\n",
    "\n",
    "plt.yticks(np.arange(0, all_days_grouped_df['Number of Users'].max()+1, step=5))\n",
    "# plt.xlim(left=0) # Moves\n",
    "\n",
    "plt.show()"
   ]
  },
  {
   "cell_type": "markdown",
   "metadata": {},
   "source": [
    "### Number Trips / Day\n"
   ]
  },
  {
   "cell_type": "markdown",
   "metadata": {},
   "source": [
    "With the current Preliminary Dataset, this doesn't do anything, since all of the data comes from a single day... Once we have more data, this may prove useful!"
   ]
  },
  {
   "cell_type": "code",
   "execution_count": 7,
   "metadata": {},
   "outputs": [],
   "source": [
    "start_as_datetime_df = rideshare_with_data_df\n",
    "start_as_datetime_df['start_time'] = pd.to_datetime(start_as_datetime_df['start_time'])\n",
    "\n",
    "daily_count_df = start_as_datetime_df.groupby(['driver_id', start_as_datetime_df['start_time'].dt.date])['start_time'].count()\n",
    "max_trips_per_user_df = daily_count_df.groupby('driver_id').max().reset_index()\n",
    "max_trips_per_user_df.columns = ['driver_id', 'MaxTripsInSingleDay']\n",
    "\n",
    "single_day_grouped_df = max_trips_per_user_df.groupby('MaxTripsInSingleDay')['driver_id'].nunique().reset_index()\n",
    "single_day_grouped_df.columns = ['Number of Trips', 'Number of Users']''\n"
   ]
  },
  {
   "cell_type": "markdown",
   "metadata": {},
   "source": [
    "## GeoPlot Visualizations "
   ]
  },
  {
   "cell_type": "markdown",
   "metadata": {},
   "source": [
    "### Fetch city graph"
   ]
  },
  {
   "cell_type": "markdown",
   "metadata": {},
   "source": [
    "TODO:\n",
    "- Because `geoplot` and `geopandas` have Kernel Density Equation (KDE) plotting built in, I may switch to using one of those packages (As, from my understanding, OSMNX does not have KDE)."
   ]
  },
  {
   "cell_type": "code",
   "execution_count": 8,
   "metadata": {},
   "outputs": [],
   "source": [
    "city_graph = ox.graph_from_place(CITY_NAME, network_type=\"drive\")"
   ]
  },
  {
   "cell_type": "markdown",
   "metadata": {},
   "source": [
    "### Convert lat/lon points of dataframe"
   ]
  },
  {
   "cell_type": "markdown",
   "metadata": {},
   "source": [
    "TODO:\n",
    "  - As written, this does not work! Will fix later."
   ]
  },
  {
   "cell_type": "code",
   "execution_count": null,
   "metadata": {},
   "outputs": [],
   "source": [
    "# Since we do this twice (For Origin / Destination), abstract this block to a function\n",
    "def parse_points(category_to_parse):\n",
    "    lat_string = category_to_parse + '_lat'\n",
    "    lon_string = category_to_parse + '_lng'\n",
    "    rideshare_points_df =  rideshare_with_data_df[((rideshare_with_data_df[lat_string].notna()) & (rideshare_with_data_df[lon_string].notna()))].reset_index(drop=True)\n",
    "    point_geometry = gpd.points_from_xy(pd.to_numeric(rideshare_points_df[lat_string]), pd.to_numeric(rideshare_points_df[lon_string]))\n",
    "    return gpd.GeoDataFrame(rideshare_points_df, geometry=point_geometry)\n",
    "\n",
    "\n",
    "# Calculation & Execution Functions\n",
    "ORIGIN_COLUMN = 'start_block_group_internal_point'\n",
    "DEST_COLUMN = 'end_block_group_internal_point'\n",
    "PROJECTION = gcrs.AlbersEqualArea()\n",
    "\n",
    "origin_points_gdf = parse_points(ORIGIN_COLUMN)\n",
    "dest_points_gdf = parse_points(DEST_COLUMN)\n",
    "\n",
    "print(origin_points_gdf)\n",
    "\n",
    "gdf_city = ox.graph_to_gdfs(city_graph, edges=False)\n",
    "\n",
    "ax = gdf_city.plot(figsize=(10,10), edgecolor='white')\n",
    "origin_points_gdf.plot(ax=ax, color='red', markersize=10)\n",
    "# geoplot.pointplot(origin_points_gdf, ax=ax, hue=origin_points_gdf.geometry.buffer(0.01).unary_union.convex_hull.area / origin_points_gdf.geometry.buffer(0.01).area, legend=True, legend_var='hue', cmap='inferno', legend_kwargs={'label': 'Point Density'})"
   ]
  },
  {
   "cell_type": "markdown",
   "metadata": {},
   "source": [
    "### Future Work:\n",
    "- Looking at time btwn trips, can consider filter out 2/3 trip drivers\n",
    "- Other ways to cluster:\n",
    "- TODO: Look at length of trips / driver\n",
    "- TODO: Look at time between trips (/ driver)\n",
    "  - E.g., driver does 15 trips, but does two shifts (5 in the morning, 10 in the evening); what do those look like?\n",
    "  - From this, _then_ we can start clustering by shift, not just by one cluster\n",
    "- Stronger variables to consider:\n",
    "  - Time bwn rides\n",
    "  - Time of day\n",
    "  - Location of O-D Pairs"
   ]
  }
 ],
 "metadata": {
  "kernelspec": {
   "display_name": "hive_extension",
   "language": "python",
   "name": "python3"
  },
  "language_info": {
   "codemirror_mode": {
    "name": "ipython",
    "version": 3
   },
   "file_extension": ".py",
   "mimetype": "text/x-python",
   "name": "python",
   "nbconvert_exporter": "python",
   "pygments_lexer": "ipython3",
   "version": "3.11.8"
  }
 },
 "nbformat": 4,
 "nbformat_minor": 2
}
